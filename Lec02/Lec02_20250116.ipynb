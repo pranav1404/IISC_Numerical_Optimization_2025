{
 "cells": [
  {
   "cell_type": "code",
   "execution_count": 43,
   "metadata": {},
   "outputs": [],
   "source": [
    "import numpy as np\n",
    "import pandas as pd\n",
    "import matplotlib.pyplot as plt"
   ]
  },
  {
   "cell_type": "code",
   "execution_count": 44,
   "metadata": {},
   "outputs": [],
   "source": [
    "df = pd.read_csv('real_estate_dataset.csv')"
   ]
  },
  {
   "cell_type": "code",
   "execution_count": 45,
   "metadata": {},
   "outputs": [],
   "source": [
    "columns = df.columns"
   ]
  },
  {
   "cell_type": "code",
   "execution_count": 46,
   "metadata": {},
   "outputs": [],
   "source": [
    "np.savetxt('columns.txt', columns, fmt='%s', delimiter=',')"
   ]
  },
  {
   "cell_type": "code",
   "execution_count": 47,
   "metadata": {},
   "outputs": [
    {
     "name": "stdout",
     "output_type": "stream",
     "text": [
      "Shape of X: (500, 4)\n",
      "data type of X: float64\n"
     ]
    }
   ],
   "source": [
    "#Use Square_Feet, Garage_Size, Location_Score, Distance_to_Center as features\n",
    "X = df[['Square_Feet', 'Garage_Size', 'Location_Score', 'Distance_to_Center']].values\n",
    "y = df['Price'].values\n",
    "\n",
    "print(f'Shape of X: {X.shape}')\n",
    "print(f'data type of X: {X.dtype}')"
   ]
  },
  {
   "cell_type": "code",
   "execution_count": 48,
   "metadata": {},
   "outputs": [],
   "source": [
    "n_samples, n_features = X.shape"
   ]
  },
  {
   "cell_type": "code",
   "execution_count": 49,
   "metadata": {},
   "outputs": [
    {
     "data": {
      "text/plain": [
       "(5,)"
      ]
     },
     "execution_count": 49,
     "metadata": {},
     "output_type": "execute_result"
    }
   ],
   "source": [
    "coefs = np.ones(n_features + 1)\n",
    "coefs.shape"
   ]
  },
  {
   "cell_type": "code",
   "execution_count": 50,
   "metadata": {},
   "outputs": [],
   "source": [
    "#predict the price for each sample in X\n",
    "predictions_bydefn = np.dot(X, coefs[1:]) + coefs[0]"
   ]
  },
  {
   "cell_type": "code",
   "execution_count": 51,
   "metadata": {},
   "outputs": [],
   "source": [
    "#append a column of ones to X\n",
    "X = np.hstack([np.ones((n_samples, 1)), X])"
   ]
  },
  {
   "cell_type": "code",
   "execution_count": 52,
   "metadata": {},
   "outputs": [],
   "source": [
    "#predict the price for each sample in X\n",
    "predictions = X @ coefs"
   ]
  },
  {
   "cell_type": "code",
   "execution_count": 53,
   "metadata": {},
   "outputs": [],
   "source": [
    "is_same = np.allclose(predictions, predictions_bydefn)"
   ]
  },
  {
   "cell_type": "code",
   "execution_count": 54,
   "metadata": {},
   "outputs": [
    {
     "name": "stdout",
     "output_type": "stream",
     "text": [
      "Are the predictions the same? True\n"
     ]
    }
   ],
   "source": [
    "print(f'Are the predictions the same? {is_same}')"
   ]
  },
  {
   "cell_type": "code",
   "execution_count": 55,
   "metadata": {},
   "outputs": [],
   "source": [
    "errors = predictions - y"
   ]
  },
  {
   "cell_type": "code",
   "execution_count": 56,
   "metadata": {},
   "outputs": [
    {
     "name": "stdout",
     "output_type": "stream",
     "text": [
      "Size of errors : (500,)\n",
      "L2 Norm of errors : 13297007.321853261\n"
     ]
    }
   ],
   "source": [
    "print(f'Size of errors : {errors.shape}')\n",
    "print(f'L2 Norm of errors : {np.linalg.norm(errors)}')\n"
   ]
  },
  {
   "cell_type": "code",
   "execution_count": 57,
   "metadata": {},
   "outputs": [
    {
     "name": "stdout",
     "output_type": "stream",
     "text": [
      "L2 Norm of relative errors : 22.35214323542266\n"
     ]
    }
   ],
   "source": [
    "rel_errors = errors / y\n",
    "print(f'L2 Norm of relative errors : {np.linalg.norm(rel_errors)}')"
   ]
  },
  {
   "cell_type": "code",
   "execution_count": 58,
   "metadata": {},
   "outputs": [],
   "source": [
    "#Calculate the mead of sqaurre of errors\n",
    "loss_loop = 0\n",
    "for i in range(n_samples):\n",
    "    loss_loop += (predictions[i] - y[i])**2\n",
    "\n",
    "loss_loop /= n_samples"
   ]
  },
  {
   "cell_type": "code",
   "execution_count": 59,
   "metadata": {},
   "outputs": [],
   "source": [
    "loss_matrix = np.transpose(errors) @ errors / n_samples"
   ]
  },
  {
   "cell_type": "code",
   "execution_count": 60,
   "metadata": {},
   "outputs": [
    {
     "name": "stdout",
     "output_type": "stream",
     "text": [
      "Are the losses the same? True\n"
     ]
    }
   ],
   "source": [
    "is_diff = np.allclose(loss_loop, loss_matrix)\n",
    "print(f'Are the losses the same? {is_diff}')"
   ]
  },
  {
   "cell_type": "code",
   "execution_count": 61,
   "metadata": {},
   "outputs": [],
   "source": [
    "#Objective function : f(coefs) = 1/n_samples * ||X @ coefs - y||^2\n",
    "#Gradient of f(coefs) = 2/n_samples * X^T @ (X @ coefs - y\n",
    "\n",
    "#What is a soltion?\n",
    "#A solution is a set of coefficients that minimizes the objective function\n",
    "\n",
    "#How do we find a solution?\n",
    "#By searching for the coefficients at which the gradient is zero\n",
    "# Or I can set the gradient to zero and solve for the coefficients\n",
    "\n",
    "#Write the loss matrix in the terms of data and coefs\n",
    "loss_matrix = (X @ coefs - y).T @ (X @ coefs - y) / n_samples"
   ]
  },
  {
   "cell_type": "code",
   "execution_count": 62,
   "metadata": {},
   "outputs": [],
   "source": [
    "#Calculate the gradient of the loss with respect to the coefficients\n",
    "gradient = 2/n_samples * X.T @ (X @ coefs - y)"
   ]
  },
  {
   "cell_type": "code",
   "execution_count": 63,
   "metadata": {},
   "outputs": [],
   "source": [
    "#we set grad_matrix = 0 and solve for coefs\n",
    "#X^T @ X @ coefs = X^T @ y. This is called Normal Equation\n",
    "#coefs = (X^T @ X)^-1 @ X^T @ y\n",
    "\n",
    "coefs = np.linalg.inv(X.T @ X) @ X.T @ y"
   ]
  },
  {
   "cell_type": "code",
   "execution_count": 64,
   "metadata": {},
   "outputs": [],
   "source": [
    "np.savetxt('coefs.txt', coefs, fmt='%f', delimiter=',')"
   ]
  },
  {
   "cell_type": "code",
   "execution_count": 65,
   "metadata": {},
   "outputs": [],
   "source": [
    "predictions = X @ coefs"
   ]
  },
  {
   "cell_type": "code",
   "execution_count": 66,
   "metadata": {},
   "outputs": [],
   "source": [
    "#Calculate the errors using the optimal coefficients\n",
    "errors = predictions - y"
   ]
  },
  {
   "cell_type": "code",
   "execution_count": 67,
   "metadata": {},
   "outputs": [
    {
     "name": "stdout",
     "output_type": "stream",
     "text": [
      "L2 Norm of errors_model : 2240271.8037529774\n"
     ]
    }
   ],
   "source": [
    "#print the L2 norm of the errors\n",
    "print(f'L2 Norm of errors_model : {np.linalg.norm(errors)}')"
   ]
  },
  {
   "cell_type": "code",
   "execution_count": 68,
   "metadata": {},
   "outputs": [
    {
     "name": "stdout",
     "output_type": "stream",
     "text": [
      "L2 Norm of relative errors_model : 4.327097762677231\n"
     ]
    }
   ],
   "source": [
    "relatve_errors = errors / y\n",
    "print(f'L2 Norm of relative errors_model : {np.linalg.norm(relatve_errors)}')"
   ]
  },
  {
   "cell_type": "code",
   "execution_count": 69,
   "metadata": {},
   "outputs": [
    {
     "name": "stdout",
     "output_type": "stream",
     "text": [
      "number of samples and features : (500, 11)\n"
     ]
    }
   ],
   "source": [
    "#Use all the features in the dataset to build a linear model\n",
    "X = df.drop('Price', axis=1).values\n",
    "y = df['Price'].values\n",
    "\n",
    "n_samples, n_features = X.shape\n",
    "print(f'number of samples and features : {n_samples, n_features}')"
   ]
  },
  {
   "cell_type": "code",
   "execution_count": 70,
   "metadata": {},
   "outputs": [],
   "source": [
    "X = np.hstack([np.ones((n_samples, 1)), X])\n",
    "coefs = np.linalg.inv(X.T @ X) @ X.T @ y"
   ]
  },
  {
   "cell_type": "code",
   "execution_count": 71,
   "metadata": {},
   "outputs": [],
   "source": [
    "#Save the coefficients to a file\n",
    "np.savetxt('coefs_all.csv', coefs, fmt='%f', delimiter=',')"
   ]
  },
  {
   "cell_type": "code",
   "execution_count": 72,
   "metadata": {},
   "outputs": [
    {
     "name": "stdout",
     "output_type": "stream",
     "text": [
      "Rank of X^T @ X : 12\n"
     ]
    }
   ],
   "source": [
    "#Calculate the rank of X^T @ X\n",
    "rank = np.linalg.matrix_rank(X.T @ X)\n",
    "print(f'Rank of X^T @ X : {rank}')"
   ]
  },
  {
   "cell_type": "code",
   "execution_count": 73,
   "metadata": {},
   "outputs": [
    {
     "name": "stdout",
     "output_type": "stream",
     "text": [
      "Shape of Q : (500, 12)\n",
      "Shape of R : (12, 12)\n"
     ]
    }
   ],
   "source": [
    "#Solve the normal equation using matrix decomposition\n",
    "#QR decomposition\n",
    "Q, R = np.linalg.qr(X)\n",
    "\n",
    "print(f'Shape of Q : {Q.shape}')\n",
    "print(f'Shape of R : {R.shape}')"
   ]
  },
  {
   "cell_type": "code",
   "execution_count": 74,
   "metadata": {},
   "outputs": [],
   "source": [
    "np.savetxt('R.csv', R, fmt='%f', delimiter=',')"
   ]
  },
  {
   "cell_type": "code",
   "execution_count": 75,
   "metadata": {},
   "outputs": [],
   "source": [
    "sol = Q.T @ Q\n",
    "np.savetxt('sol.csv', sol, fmt='%f', delimiter=',')"
   ]
  },
  {
   "cell_type": "code",
   "execution_count": 76,
   "metadata": {},
   "outputs": [
    {
     "name": "stdout",
     "output_type": "stream",
     "text": [
      "Shape of b : (12,)\n",
      "Shape of R : (12, 12)\n",
      "Are the coefficients the same? True\n",
      "Are the coefficients the same? True\n"
     ]
    }
   ],
   "source": [
    "#R*coefs = b\n",
    "\n",
    "#X = QR\n",
    "#X^T @ X = R^T @ Q^T @ Q @ R = R^T @ R\n",
    "#X^T @ y = R^T @ Q^T @ y\n",
    "#R @ coefs = Q^T @ y\n",
    "\n",
    "b = Q.T @ y\n",
    "\n",
    "print(f'Shape of b : {b.shape}')\n",
    "print(f'Shape of R : {R.shape}')\n",
    "\n",
    "coefs_qr = np.linalg.inv(R) @ b\n",
    "# loop to solve for R @ coefs = b using back substitution\n",
    "\n",
    "coefs_qr_loop = np.zeros(n_features + 1)\n",
    "for i in range(n_features, -1, -1):\n",
    "    coefs_qr_loop[i] = b[i]\n",
    "    for j in range(i + 1, n_features + 1):\n",
    "        coefs_qr_loop[i] -= R[i, j] * coefs_qr_loop[j]\n",
    "    coefs_qr_loop[i] /= R[i, i]\n",
    "\n",
    "#Check if the coefficients are the same\n",
    "is_same = np.allclose(coefs_qr, coefs_qr_loop)\n",
    "print(f'Are the coefficients the same? {is_same}')\n",
    "is_same = np.allclose(coefs_qr, coefs)\n",
    "print(f'Are the coefficients the same? {is_same}')\n",
    "\n",
    "np.savetxt('coefs_qr.csv', coefs_qr_loop, fmt='%f', delimiter=',')"
   ]
  },
  {
   "cell_type": "code",
   "execution_count": 77,
   "metadata": {},
   "outputs": [],
   "source": [
    "#Solving the normal equation using SVD\n",
    "#X = U @ S @ V^T\n",
    "#X^-1 =  \n",
    "U, S, Vt = np.linalg.svd(X, full_matrices=False)\n"
   ]
  },
  {
   "cell_type": "code",
   "execution_count": 78,
   "metadata": {},
   "outputs": [],
   "source": [
    "#Eigen decomposition of square matrix\n",
    "#A = V @ D @ V^-1\n",
    "#A^-1 = V @ D^-1 @ V^-1\n",
    "#A = X^T @ X -> symmetric square matrix\n",
    "#A = V @ D @ V^T , A^-1 = V @ D^-1 @ V^T\n",
    "#\n",
    "\n",
    "#X @ coefs = y\n",
    "#Normal Equation : X^T @ X @ coefs = X^T @ y\n",
    "\n",
    "#Find inverse of X in least squares sense\n",
    "#Pseudo inverse of X\n",
    "#Xdagger = (X^T @ X)^-1 @ X^T"
   ]
  },
  {
   "cell_type": "code",
   "execution_count": 79,
   "metadata": {},
   "outputs": [
    {
     "name": "stdout",
     "output_type": "stream",
     "text": [
      "Are the coefficients the same? True\n"
     ]
    }
   ],
   "source": [
    "#To complete: Calculate the coefs_svd using the SVD decomposition\n",
    "\n",
    "#X = U @ S @ V^T\n",
    "#X^T @ X = V @ S^2 @ V^T\n",
    "#X^T @ y = V @ S @ U^T @ y\n",
    "#coefs_svd = V @ S^-1 @ U^T @ y\n",
    "\n",
    "U, S, Vt = np.linalg.svd(X, full_matrices=False)\n",
    "\n",
    "coefs_svd = Vt.T @ np.linalg.inv(np.diag(S)) @ U.T @ y\n",
    "\n",
    "np.savetxt('coefs_svd.csv', coefs_svd, fmt='%f', delimiter=',')\n",
    "\n",
    "#Check if the coefficients are the same\n",
    "is_same = np.allclose(coefs_svd, coefs)\n",
    "print(f'Are the coefficients the same? {is_same}')"
   ]
  },
  {
   "cell_type": "code",
   "execution_count": 80,
   "metadata": {},
   "outputs": [
    {
     "name": "stdout",
     "output_type": "stream",
     "text": [
      "Are the coefficients the same? True\n"
     ]
    }
   ],
   "source": [
    "#Calculate the predictions using the eigen decomposition of X^T @ X\n",
    "#X^T @ X = V @ D @ V^T\n",
    "#Normal Equation : X^T @ X @ coefs = X^T @ y\n",
    "#Calculate the coefs using the eigen decomposition of X^T @ X\n",
    "d, v = np.linalg.eig(X.T @ X)\n",
    "coefs_eigen = v @ np.linalg.inv(np.diag(d)) @ v.T @ X.T @ y\n",
    "\n",
    "np.savetxt('coefs_eigen.csv', coefs_eigen, fmt='%f', delimiter=',')\n",
    "\n",
    "#Check if the coefficients are the same\n",
    "is_same = np.allclose(coefs_eigen, coefs)\n",
    "print(f'Are the coefficients the same? {is_same}')"
   ]
  }
 ],
 "metadata": {
  "kernelspec": {
   "display_name": ".venv",
   "language": "python",
   "name": "python3"
  },
  "language_info": {
   "codemirror_mode": {
    "name": "ipython",
    "version": 3
   },
   "file_extension": ".py",
   "mimetype": "text/x-python",
   "name": "python",
   "nbconvert_exporter": "python",
   "pygments_lexer": "ipython3",
   "version": "3.11.2"
  }
 },
 "nbformat": 4,
 "nbformat_minor": 2
}
